{
 "cells": [
  {
   "cell_type": "markdown",
   "metadata": {},
   "source": [
    "# Udacity Final Project\n",
    "Feb.19.2022"
   ]
  },
  {
   "cell_type": "markdown",
   "metadata": {},
   "source": [
    "## Overview: Free Trail Screener\n",
    "[Instruction Link](https://docs.google.com/document/u/1/d/1aCquhIqsUApgsxQ8-SQBAigFDcfWVVohLEXcV6jWbdI/pub)\n",
    "\n",
    "In the experiment, Udacity tested a change where if the student clicked **\"start free trial\"**, they were asked how much time they had available to devote to the course. If the student indicated 5 or more hours per week, they would be taken through the checkout process as usual. If they indicated fewer than 5 hours per week, a message would appear indicating that Udacity courses usually require a greater time commitment for successful completion, and suggesting that the student might like to access the course materials for free. At this point, the student would have the option to continue enrolling in the free trial, or access the course materials for free instead.\n",
    "\n",
    "**The hypothesis** was that this might set clearer expectations for students upfront, thus \n",
    "\n",
    "1. Reducing the number of frustrated students who left the free trial because they didn't have enough time—\n",
    "2. Without significantly Reducing the number of students to continue past the free trial and eventually complete the course. \n",
    "3. If this hypothesis held true, Udacity could improve the overall student experience and improve coaches' capacity to support students who are likely to complete the course.\n",
    "\n",
    "\n",
    "The **unit of diversion is a cookie**, although if the student enrolls in the free trial, they are tracked by user-id from that point forward. The same user-id cannot enroll in the free trial twice. For users that do not enroll, their user-id is not tracked in the experiment, even if they were signed in when they visited the course overview page.\n"
   ]
  },
  {
   "cell_type": "markdown",
   "metadata": {},
   "source": [
    "## 1. Metric Choice\n",
    "\n",
    "* **Number of cookies**: number of unique cookies to view the course overview page. (dmin=3000)\n",
    "* **Number of user-ids**: number of users who enroll in the free trial. (dmin=50)\n",
    "* **Number of clicks**: number of unique cookies to click the \"Start free trial\" button (which happens before the free trial screener is trigger). (dmin=240)\n",
    "* **Click-through-probability**: number of unique cookies to click the \"Start free trial\" button divided by number of unique cookies to view the course overview page. (dmin=0.01)\n",
    "* **Gross conversion**: number of user-ids to complete checkout and enroll in the free trial divided by number of unique cookies to click the \"Start free trial\" button. (dmin= 0.01)\n",
    "* **Retention**: number of user-ids to remain enrolled past the 14-day boundary (and thus make at least one payment) divided by number of user-ids to complete checkout. (dmin=0.01)\n",
    "* **Net conversion**: number of user-ids to remain enrolled past the 14-day boundary (and thus make at least one payment) divided by the number of unique cookies to click the \"Start free trial\" button. (dmin= 0.0075)"
   ]
  },
  {
   "cell_type": "markdown",
   "metadata": {},
   "source": [
    "\n",
    "### **Invariant Metrics**: \n",
    "\n",
    "* Number of cookies\n",
    "* Number of clicks\n",
    "* Click-through-probability\n",
    "\n",
    "### **Evaluation Metrics**:\n",
    "\n",
    "* Gross conversion: $\\frac{users}{clicks}$\n",
    "* Retension: $\\frac{paid\\space users}{users}$\n",
    "* Net conversion: $\\frac{paid\\space users}{clicks}$\n"
   ]
  },
  {
   "cell_type": "markdown",
   "metadata": {},
   "source": [
    "## 2. Calculating standard deviation\n",
    "For each evaluation metric, make an analytic estimate of its standard deviation, given a sample size of 5000 cookies visiting the course overview page. Enter each estimate in the appropriate box to 4 decimal places.\n",
    "\n",
    "$$\\sqrt(p*(1-p)/N)$$\n",
    "\n",
    "N is determined by the numerator of the metric"
   ]
  },
  {
   "cell_type": "code",
   "execution_count": 3,
   "metadata": {},
   "outputs": [],
   "source": [
    "import math\n",
    "n_pageviews = 40000\n",
    "n_clicks = 3200\n",
    "n_enroll = 660\n",
    "ctp = 0.08\n",
    "n_sample = 5000\n",
    "\n",
    "gc = 0.20625\n",
    "retension = 0.53\n",
    "nc = 0.1093125"
   ]
  },
  {
   "cell_type": "code",
   "execution_count": 5,
   "metadata": {},
   "outputs": [
    {
     "name": "stdout",
     "output_type": "stream",
     "text": [
      "std of GC:  0.0202\n",
      "std of Retention:  0.0549\n",
      "std of NC:  0.0156\n"
     ]
    }
   ],
   "source": [
    "# number of clicks in the experiment\n",
    "n_clicks_exp = (n_clicks / n_pageviews) * n_sample\n",
    "# number of enrolls in the experiment\n",
    "n_enroll_exp = (n_enroll / n_pageviews) * n_sample\n",
    "\n",
    "std_gc = math.sqrt(gc*(1-gc)/ n_clicks_exp)\n",
    "std_retention = math.sqrt(retension*(1-retension)/n_enroll_exp)\n",
    "std_nc = math.sqrt(nc*(1-nc)/n_clicks_exp)\n",
    "\n",
    "print(\"std of GC: \",round(std_gc,4))\n",
    "print(\"std of Retention: \",round(std_retention,4))\n",
    "print(\"std of NC: \",round(std_nc,4))"
   ]
  },
  {
   "cell_type": "markdown",
   "metadata": {},
   "source": [
    "## 3. Calculating Number of Pageviews\n",
    "\n",
    "**Use Bonferroni Correction?\"**: No, the evaluation metrics are closely related to eeach other.\n",
    "\n",
    "https://www.evanmiller.org/ab-testing/sample-size.html\n",
    "\n",
    "**gross conversion** \n",
    "- Baseline rate: 20.625% \n",
    "- Minimum Detectable Effect: 0.01 \n",
    "- Sample size: 25,835 clicks/group \n",
    "- Total sample size: 25,835*2=51670 clicks \n",
    "- Pageviews= clicks / (clicks / pageviews) = 51670 / 0.08 =645875\n",
    "\n",
    "**retention** \n",
    "- Baseline rate: 53% \n",
    "- Minimum Detectable Effect: 0.01 \n",
    "- Sample size: 39,115 enrolls/group \n",
    "- Total sample size: 39,115*2=78230 enrolls \n",
    "- Pageviews= enrolls / (enrolls / pageviews) = 78230 / (660/40000) =4741212\n",
    "\n",
    "**net conversion** \n",
    "- Baseline rate: 10.93125% \n",
    "- Minimum Detectable Effect: 0.0075 \n",
    "- Sample size: 27,413 clicks/group \n",
    "- Total sample size: 27,413*2=54826 clicks \n",
    "- Pageviews= clicks /(clicks / pageviews)= 54826 / 0.08 =685325\n",
    "\n",
    "The maximum number of pageviews is **4741212**"
   ]
  },
  {
   "cell_type": "markdown",
   "metadata": {},
   "source": [
    "## 4. Choosing Duration and Exposure\n",
    "\n",
    "**Number of pageviews: 685325**\n",
    "\n",
    "**Fraction of traffic exposed**: 0.5\n",
    "\n",
    "**Length of experiment**: 685325 / (40000 * 0.5) = 35"
   ]
  },
  {
   "cell_type": "code",
   "execution_count": 6,
   "metadata": {},
   "outputs": [
    {
     "data": {
      "text/plain": [
       "34.26625"
      ]
     },
     "execution_count": 6,
     "metadata": {},
     "output_type": "execute_result"
    }
   ],
   "source": [
    "685325 / (40000 * 0.5)"
   ]
  },
  {
   "cell_type": "markdown",
   "metadata": {},
   "source": [
    "## 5. Sanity checks\n",
    "\n",
    "For each invariance metric, compute the 95% confidence interval. Based on the observed value, check if the metric passes your sanity check\n",
    "\n",
    "\n",
    "### **Invariant Metrics**: \n",
    "\n",
    "* Number of cookies\n",
    "* Number of clicks\n",
    "* Click-through-probability\n",
    "\n",
    "$$SD = \\sqrt(\\frac{p*(1-p)}{N_{cont}+N_{exp}})$$\n",
    "$$m = 1.96 * SD$$\n",
    "$$[P-m, P+m]$$"
   ]
  },
  {
   "cell_type": "code",
   "execution_count": 9,
   "metadata": {},
   "outputs": [],
   "source": [
    "import pandas as pd\n",
    "control = pd.read_csv('Final Project Results - Control.csv')\n",
    "test = pd.read_csv('Final Project Results - Experiment.csv')"
   ]
  },
  {
   "cell_type": "code",
   "execution_count": 11,
   "metadata": {},
   "outputs": [
    {
     "data": {
      "text/html": [
       "<div>\n",
       "<style scoped>\n",
       "    .dataframe tbody tr th:only-of-type {\n",
       "        vertical-align: middle;\n",
       "    }\n",
       "\n",
       "    .dataframe tbody tr th {\n",
       "        vertical-align: top;\n",
       "    }\n",
       "\n",
       "    .dataframe thead th {\n",
       "        text-align: right;\n",
       "    }\n",
       "</style>\n",
       "<table border=\"1\" class=\"dataframe\">\n",
       "  <thead>\n",
       "    <tr style=\"text-align: right;\">\n",
       "      <th></th>\n",
       "      <th>Date</th>\n",
       "      <th>Pageviews</th>\n",
       "      <th>Clicks</th>\n",
       "      <th>Enrollments</th>\n",
       "      <th>Payments</th>\n",
       "    </tr>\n",
       "  </thead>\n",
       "  <tbody>\n",
       "    <tr>\n",
       "      <th>0</th>\n",
       "      <td>Sat, Oct 11</td>\n",
       "      <td>7723</td>\n",
       "      <td>687</td>\n",
       "      <td>134.0</td>\n",
       "      <td>70.0</td>\n",
       "    </tr>\n",
       "    <tr>\n",
       "      <th>1</th>\n",
       "      <td>Sun, Oct 12</td>\n",
       "      <td>9102</td>\n",
       "      <td>779</td>\n",
       "      <td>147.0</td>\n",
       "      <td>70.0</td>\n",
       "    </tr>\n",
       "    <tr>\n",
       "      <th>2</th>\n",
       "      <td>Mon, Oct 13</td>\n",
       "      <td>10511</td>\n",
       "      <td>909</td>\n",
       "      <td>167.0</td>\n",
       "      <td>95.0</td>\n",
       "    </tr>\n",
       "    <tr>\n",
       "      <th>3</th>\n",
       "      <td>Tue, Oct 14</td>\n",
       "      <td>9871</td>\n",
       "      <td>836</td>\n",
       "      <td>156.0</td>\n",
       "      <td>105.0</td>\n",
       "    </tr>\n",
       "    <tr>\n",
       "      <th>4</th>\n",
       "      <td>Wed, Oct 15</td>\n",
       "      <td>10014</td>\n",
       "      <td>837</td>\n",
       "      <td>163.0</td>\n",
       "      <td>64.0</td>\n",
       "    </tr>\n",
       "  </tbody>\n",
       "</table>\n",
       "</div>"
      ],
      "text/plain": [
       "          Date  Pageviews  Clicks  Enrollments  Payments\n",
       "0  Sat, Oct 11       7723     687        134.0      70.0\n",
       "1  Sun, Oct 12       9102     779        147.0      70.0\n",
       "2  Mon, Oct 13      10511     909        167.0      95.0\n",
       "3  Tue, Oct 14       9871     836        156.0     105.0\n",
       "4  Wed, Oct 15      10014     837        163.0      64.0"
      ]
     },
     "execution_count": 11,
     "metadata": {},
     "output_type": "execute_result"
    }
   ],
   "source": [
    "control.head()"
   ]
  },
  {
   "cell_type": "code",
   "execution_count": 12,
   "metadata": {},
   "outputs": [
    {
     "name": "stdout",
     "output_type": "stream",
     "text": [
      "Confidence Interval for pageviews: [0.4988,0.5012]\n",
      "Observed:  0.5006\n"
     ]
    }
   ],
   "source": [
    "\"\"\"pageviews\"\"\"\n",
    "sum_cont = sum(control['Pageviews'])\n",
    "sum_exp = sum(test['Pageviews'])\n",
    "SD = math.sqrt(0.5*0.5/(sum_cont + sum_exp))\n",
    "m = 1.96*SD\n",
    "ci_min, ci_max = 0.5-m, 0.5+m\n",
    "print(\"Confidence Interval for pageviews: [{},{}]\".format(round(ci_min,4),round(ci_max,4)))\n",
    "print(\"Observed: \",round(sum_cont/(sum_exp+sum_cont),4))"
   ]
  },
  {
   "cell_type": "code",
   "execution_count": 13,
   "metadata": {
    "scrolled": true
   },
   "outputs": [
    {
     "name": "stdout",
     "output_type": "stream",
     "text": [
      "Confidence Interval for clicks: [0.4959,0.5041]\n",
      "Observed:  0.5005\n"
     ]
    }
   ],
   "source": [
    "\"\"\"clicks\"\"\"\n",
    "sum_cont = sum(control['Clicks'])\n",
    "sum_exp = sum(test['Clicks'])\n",
    "SD = math.sqrt(0.5*0.5/(sum_cont + sum_exp))\n",
    "m = 1.96*SD\n",
    "ci_min, ci_max = 0.5-m, 0.5+m\n",
    "print(\"Confidence Interval for clicks: [{},{}]\".format(round(ci_min,4),round(ci_max,4)))\n",
    "print(\"Observed: \",round(sum_cont/(sum_exp+sum_cont),4))"
   ]
  },
  {
   "cell_type": "markdown",
   "metadata": {},
   "source": [
    "$$pool = \\frac {sum_{clicks.cont}+sum_{clicks.exp}}{sum_{pv.cont}+sum_{pv.exp}}$$\n",
    "\n",
    "$$SE = \\sqrt {pool * (1-pool) * (\\frac{1}{sum_{pv.cont}}+\\frac{1}{sum_{pv.exp}})} {}$$"
   ]
  },
  {
   "cell_type": "code",
   "execution_count": 59,
   "metadata": {},
   "outputs": [
    {
     "name": "stdout",
     "output_type": "stream",
     "text": [
      "Confidence Interval for ctp: [-0.0013,0.0013]\n",
      "Observed:  0.0001\n"
     ]
    }
   ],
   "source": [
    "\"\"\"ctp\"\"\"\n",
    "sum_click_cont = sum(control['Clicks']) \n",
    "sum_pv_cont = sum(control['Pageviews'])\n",
    "sum_click_exp = sum(test['Clicks'])\n",
    "sum_pv_exp = sum(test['Pageviews'])\n",
    "\n",
    "ctp_cont = sum_click_cont / sum_pv_cont\n",
    "ctp_exp = sum_click_exp / sum_pv_exp\n",
    "\n",
    "\n",
    "ctp_pool = ctp_pool=(sum_click_cont+sum_click_exp)/(sum_pv_cont+sum_pv_exp)\n",
    "\n",
    "SE = math.sqrt(ctp_pool*(1-ctp_pool)*(1/sum_pv_cont+1/sum_pv_exp))\n",
    "m = 1.96*SE\n",
    "ci_min, ci_max = -m, +m\n",
    "               \n",
    "d_hat = ctp_exp - ctp_cont\n",
    "print(\"Confidence Interval for ctp: [{},{}]\".format(round(ci_min,4),round(ci_max,4)))\n",
    "print(\"Observed: \",round(d_hat,4))"
   ]
  },
  {
   "cell_type": "markdown",
   "metadata": {},
   "source": [
    "## 6. Effect Size Tests\n",
    "For each evaluation metrics, compute confidence interval around the difference. See if the difference is larger than 0.\n",
    "\n",
    "### **Evaluation Metrics**:\n",
    "\n",
    "* Gross conversion: $\\frac{users}{clicks}$\n",
    "* Retension: $\\frac{paid\\space users}{users}$\n",
    "* Net conversion: $\\frac{paid\\space users}{clicks}$\n"
   ]
  },
  {
   "cell_type": "code",
   "execution_count": 58,
   "metadata": {},
   "outputs": [
    {
     "name": "stdout",
     "output_type": "stream",
     "text": [
      "Confidence Interval:[-0.0291233583354044,-0.01198639082531873]\n",
      "Observed: -0.020554874580361565\n",
      "Statistically significant: True ,  CI doesn't include 0\n",
      "Practically significant: True ,  CI doesn't include d_min or -d_min\n"
     ]
    }
   ],
   "source": [
    "\"\"\"gross conversion\"\"\"\n",
    "d_min = 0.01\n",
    "n = 23\n",
    "sum_clicks_cont = sum(control['Clicks'][:n])\n",
    "sum_clicks_exp = sum(test['Clicks'][:n])\n",
    "sum_enroll_cont = sum(control['Enrollments'][:n])\n",
    "sum_enroll_exp = sum(test['Enrollments'][:n])\n",
    "\n",
    "p_pool = (sum_enroll_exp+sum_enroll_cont)/(sum_clicks_exp+sum_clicks_cont)\n",
    "SE_pool=math.sqrt(p_pool*(1-p_pool)*(1/sum_clicks_cont+1/sum_clicks_exp))\n",
    "m=SE_pool*1.96\n",
    "\n",
    "d_hat=sum_enroll_exp/sum_clicks_exp-sum_enroll_cont/sum_clicks_cont\n",
    "\n",
    "print(\"Confidence Interval:[{},{}]\".format(d_hat-m,d_hat+m))\n",
    "print(\"Observed:\",d_hat)\n",
    "print (\"Statistically significant:\", d_hat+m<0 or d_hat-m>0 ,\",  CI doesn't include 0\")\n",
    "print(\"Practically significant:\",True,\",  CI doesn't include d_min or -d_min\")"
   ]
  },
  {
   "cell_type": "code",
   "execution_count": 88,
   "metadata": {},
   "outputs": [
    {
     "name": "stdout",
     "output_type": "stream",
     "text": [
      "Confidence Interval:[-0.011604624359891718,0.001857179010803383]\n",
      "Observed: -0.0048737226745441675\n",
      "Statistically significant: False ,  CI include 0\n",
      "Practically significant: False ,  CI include d_min or -d_min\n"
     ]
    }
   ],
   "source": [
    "\"\"\"net conversion\"\"\"\n",
    "d_min = 0.0075\n",
    "n = 23\n",
    "sum_payment_cont = sum(control['Payments'][:n])\n",
    "sum_payment_exp = sum(test['Payments'][:n])\n",
    "sum_clicks_cont = sum(control['Clicks'][:n])\n",
    "sum_clicks_exp = sum(test['Clicks'][:n])\n",
    "\n",
    "p_pool = (sum_payment_cont+sum_payment_exp)/(sum_clicks_cont+sum_clicks_exp)\n",
    "SE_pool=math.sqrt(p_pool*(1-p_pool)*(1/sum_clicks_cont+1/sum_clicks_exp))\n",
    "m=SE_pool*1.96\n",
    "\n",
    "d_hat=sum_payment_exp/sum_clicks_exp-sum_payment_cont/sum_clicks_cont\n",
    "\n",
    "print(\"Confidence Interval:[{},{}]\".format(d_hat-m,d_hat+m))\n",
    "print(\"Observed:\",d_hat)\n",
    "print (\"Statistically significant:\", d_hat+m<0 or d_hat-m>0 ,\",  CI include 0\")\n",
    "print(\"Practically significant:\",False,\",  CI include d_min or -d_min\")"
   ]
  },
  {
   "cell_type": "markdown",
   "metadata": {},
   "source": [
    "## 7. Sign Tests\n",
    "Run a sign test on evaluation metrics. Enter each p-value, and indicate whether thee results is statistically significant\n",
    "\n",
    "### **Evaluation Metrics**:\n",
    "\n",
    "* Gross conversion: $\\frac{users}{clicks}$\n",
    "* Retension: $\\frac{paid\\space users}{users}$\n",
    "* Net conversion: $\\frac{paid\\space users}{clicks}$"
   ]
  },
  {
   "cell_type": "code",
   "execution_count": 83,
   "metadata": {},
   "outputs": [],
   "source": [
    "from scipy.stats import binom_test\n",
    "alpha = 0.05\n",
    "\n",
    "enrolls_exp = test['Enrollments'][:23]\n",
    "enrolls_cont = control['Enrollments'][:23]\n",
    "clicks_exp = test['Clicks'][:23]\n",
    "clicks_cont = control['Clicks'][:23]\n",
    "payment_exp = test['Payments'][:23]\n",
    "payment_cont = control['Payments'][:23]"
   ]
  },
  {
   "cell_type": "code",
   "execution_count": 84,
   "metadata": {},
   "outputs": [
    {
     "name": "stdout",
     "output_type": "stream",
     "text": [
      "p-value: 0.002599477767944336 , Statistically Significant: True\n"
     ]
    }
   ],
   "source": [
    "\"\"\"gross conversion\"\"\"\n",
    "gc_exp = [i/j for i,j in zip(enrolls_exp, clicks_exp)]\n",
    "gc_cont = [i/j for i,j in zip(enrolls_cont, clicks_cont)]\n",
    "gc_diff = sum([i > j for i,j in zip(gc_exp, gc_cont)])\n",
    "days = len(gc_exp)\n",
    "\n",
    "p_value = binom_test(gc_diff, n=days, p=0.5)\n",
    "print(\"p-value:\",p_value,\", Statistically Significant:\",p_value<alpha)"
   ]
  },
  {
   "cell_type": "code",
   "execution_count": 85,
   "metadata": {},
   "outputs": [
    {
     "name": "stdout",
     "output_type": "stream",
     "text": [
      "4 23\n"
     ]
    }
   ],
   "source": [
    "print(gc_diff, days)"
   ]
  },
  {
   "cell_type": "code",
   "execution_count": 86,
   "metadata": {},
   "outputs": [
    {
     "name": "stdout",
     "output_type": "stream",
     "text": [
      "p-value: 0.6776394844055176 , Statistically Significant: False\n"
     ]
    }
   ],
   "source": [
    "\"\"\"net conversion\"\"\"\n",
    "nc_exp=[i/j for i,j in zip(payment_exp,clicks_exp)]\n",
    "nc_cont=[i/j for i,j in zip(payment_cont,clicks_cont)]\n",
    "nc_diff=sum([i>j for i,j in zip(nc_exp,nc_cont)])\n",
    "days=len(nc_exp)\n",
    "p_value=binom_test(nc_diff, n=days, p=0.5)\n",
    "print(\"p-value:\",p_value,\", Statistically Significant:\",p_value<alpha)"
   ]
  },
  {
   "cell_type": "code",
   "execution_count": 87,
   "metadata": {
    "scrolled": true
   },
   "outputs": [
    {
     "name": "stdout",
     "output_type": "stream",
     "text": [
      "10 23\n"
     ]
    }
   ],
   "source": [
    "print(nc_diff, days)"
   ]
  },
  {
   "cell_type": "markdown",
   "metadata": {},
   "source": [
    "## Recommendations\n",
    "\n",
    "The screener will help reduce the enrollment, but not enough evidence to show that there will be more students who make the payments. I would not recommend launching this screener."
   ]
  }
 ],
 "metadata": {
  "kernelspec": {
   "display_name": "Python 3",
   "language": "python",
   "name": "python3"
  },
  "language_info": {
   "codemirror_mode": {
    "name": "ipython",
    "version": 3
   },
   "file_extension": ".py",
   "mimetype": "text/x-python",
   "name": "python",
   "nbconvert_exporter": "python",
   "pygments_lexer": "ipython3",
   "version": "3.7.4"
  }
 },
 "nbformat": 4,
 "nbformat_minor": 2
}
